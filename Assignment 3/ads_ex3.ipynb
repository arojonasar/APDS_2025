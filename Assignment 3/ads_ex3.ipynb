{
 "cells": [
  {
   "cell_type": "markdown",
   "metadata": {},
   "source": [
    "# Applied Data Science - Exercise 3\n",
    "\n",
    "This is the third of six exercises in the course T-786-APDS Applied Data Science at Reykjavik University.\n",
    "\n",
    "## Preparation\n",
    "\n",
    "Please read chapters 3, 5, 6 and 7 of the textbook before the lab. Also skim over chapter 4 and make sure you are familiar with the theory.\n",
    "\n",
    "\n",
    "## Task\n",
    "\n",
    "This exercise continues from where the previous exercise left off. Having explored the car listings dataset and prepared it for machine learning algorithms, you will now train regression models in order to predict the listed car price.\n",
    "\n",
    "You will also train classification models on the MSRP dataset."
   ]
  },
  {
   "cell_type": "code",
   "execution_count": 1,
   "metadata": {},
   "outputs": [],
   "source": [
    "import numpy as np\n",
    "import pandas as pd\n",
    "import matplotlib.pyplot as plt\n",
    "import sys"
   ]
  },
  {
   "cell_type": "code",
   "execution_count": 2,
   "metadata": {},
   "outputs": [],
   "source": [
    "from sklearn.metrics import mean_absolute_error, mean_squared_error, mean_absolute_percentage_error\n",
    "from sklearn.tree import DecisionTreeRegressor\n",
    "from sklearn.model_selection import cross_val_score\n",
    "from sklearn.model_selection import train_test_split"
   ]
  },
  {
   "cell_type": "code",
   "execution_count": 3,
   "metadata": {},
   "outputs": [
    {
     "name": "stdout",
     "output_type": "stream",
     "text": [
      "python 3.12.5 (tags/v3.12.5:ff3bc82, Aug  6 2024, 20:45:27) [MSC v.1940 64 bit (AMD64)]\n"
     ]
    }
   ],
   "source": [
    "# Check python version.\n",
    "# This code should run for python version >=3.6\n",
    "\n",
    "print(\"python\", sys.version)"
   ]
  },
  {
   "cell_type": "markdown",
   "metadata": {},
   "source": [
    "## Creating the training and test sets\n",
    "\n",
    "We repeat the steps from the first exercise to split the data into training and test sets, making sure that we use the same `random_state` as before."
   ]
  },
  {
   "cell_type": "code",
   "execution_count": 4,
   "metadata": {},
   "outputs": [],
   "source": [
    "vehicles = pd.read_csv(\"../data/vehicles.csv\", index_col=0)"
   ]
  },
  {
   "cell_type": "code",
   "execution_count": 5,
   "metadata": {},
   "outputs": [],
   "source": [
    "reduced_df = vehicles.copy()\n",
    "reduced_df = reduced_df[reduced_df['price'] > 0]\n",
    "reduced_df = reduced_df[reduced_df['price'].notna()]\n",
    "reduced_df = reduced_df[reduced_df['price'] < 1000000]\n",
    "reduced_df = reduced_df[~((reduced_df.manufacturer.isnull()) & (reduced_df.manufacturer.isnull()))]\n",
    "reduced_df = reduced_df.drop(columns=[\n",
    "    'county', \n",
    "    'id', \n",
    "    'region_url', \n",
    "    'url', \n",
    "    'image_url',\n",
    "    'VIN'\n",
    "])"
   ]
  },
  {
   "cell_type": "code",
   "execution_count": 6,
   "metadata": {},
   "outputs": [],
   "source": [
    "train_set, test_set = train_test_split(reduced_df, test_size=0.1, random_state=123)"
   ]
  },
  {
   "cell_type": "code",
   "execution_count": 7,
   "metadata": {},
   "outputs": [],
   "source": [
    "def preprocess(df_in):\n",
    "    \n",
    "    df = df_in.copy()\n",
    "    \n",
    "    N = 50\n",
    "    topN_models = df.model.value_counts().head(N).index.to_numpy()\n",
    "    df.loc[~df['model'].isin(topN_models),'model'] = 'unknown'\n",
    "    top_models = list(train_set.model.unique())\n",
    "    \n",
    "    df = df.drop(columns=[\n",
    "        'size', \n",
    "        'drive', \n",
    "        'lat', \n",
    "        'long', \n",
    "        'posting_date', \n",
    "        'paint_color', \n",
    "        'description',\n",
    "        'state',\n",
    "        'region'\n",
    "    ])\n",
    "    \n",
    "    df.loc[~df['model'].isin(top_models),'model'] = 'unknown'\n",
    "    \n",
    "    df = df.dropna(subset=['year', 'odometer','manufacturer'])\n",
    "    df.fillna({'type':'unknown', 'title_status':'clean', 'fuel':'gas', 'cylinders':'unknown', 'transmission':'automatic', 'condition':'good'}, inplace=True)   \n",
    "    \n",
    "    X = df.drop('price', axis=1)\n",
    "    y = df['price'].copy()\n",
    "    \n",
    "    return(X,y)"
   ]
  },
  {
   "cell_type": "code",
   "execution_count": 8,
   "metadata": {},
   "outputs": [],
   "source": [
    "from sklearn.pipeline import Pipeline\n",
    "from sklearn.preprocessing import StandardScaler\n",
    "from sklearn.preprocessing import OneHotEncoder\n",
    "from sklearn.compose import ColumnTransformer\n",
    "\n",
    "X, y = preprocess(train_set)\n",
    "\n",
    "num_attribs = list(X.select_dtypes('number'))\n",
    "cat_attribs = list(X.select_dtypes('object'))\n",
    "\n",
    "\n",
    "pipeline = ColumnTransformer([\n",
    "    ('num', StandardScaler(), num_attribs),\n",
    "    ('cat', OneHotEncoder(), cat_attribs)\n",
    "])\n",
    "\n",
    "X_prepared = pipeline.fit_transform(X)"
   ]
  },
  {
   "cell_type": "markdown",
   "metadata": {},
   "source": [
    "## Regression models"
   ]
  },
  {
   "cell_type": "markdown",
   "metadata": {},
   "source": [
    "**Task:** Train a linear regression model on the data and print the resulting mean squared error, root mean squared error, mean absolute error and mean absolute percentage error."
   ]
  },
  {
   "cell_type": "code",
   "execution_count": 57,
   "metadata": {},
   "outputs": [
    {
     "name": "stdout",
     "output_type": "stream",
     "text": [
      "MAE: 7609.643140825161\n",
      "MSE: 138113547.77904674\n",
      "MAPE: 87.693343962747\n"
     ]
    }
   ],
   "source": [
    "from sklearn.linear_model import LinearRegression\n",
    "from sklearn.metrics import mean_absolute_error, mean_squared_error, mean_absolute_percentage_error\n",
    "\n",
    "linear_model = LinearRegression()\n",
    "linear_model.fit(X_prepared, y)\n",
    "mae = mean_absolute_error(y, linear_model.predict(X_prepared))\n",
    "mse = mean_squared_error(y, linear_model.predict(X_prepared))\n",
    "mape = mean_absolute_percentage_error(y, linear_model.predict(X_prepared))\n",
    "\n",
    "print(\"MAE:\", mae)\n",
    "print(\"MSE:\", mse)\n",
    "print(\"MAPE:\", mape)"
   ]
  },
  {
   "cell_type": "markdown",
   "metadata": {},
   "source": [
    "**Task:** Train a `sklearn.tree.DecisionTreeRegressor` model. First train it on the full training set and then try 3-fold cross validation."
   ]
  },
  {
   "cell_type": "code",
   "execution_count": null,
   "metadata": {},
   "outputs": [],
   "source": [
    "from sklearn.tree import DecisionTreeRegressor\n",
    "from sklearn.model_selection import cross_validate\n",
    "\n",
    "tree_reg = DecisionTreeRegressor(random_state=123)\n",
    "fitted = tree_reg.fit(X_prepared, y)\n",
    "\n",
    "# Evaluate the model on the full training set\n",
    "mae = mean_absolute_error(y, fitted.predict(X_prepared))\n",
    "mse = mean_squared_error(y, fitted.predict(X_prepared))\n",
    "mape = mean_absolute_percentage_error(y, fitted.predict(X_prepared))\n",
    "\n",
    "# Perform 3-fold cross-validation\n",
    "cv_results = cross_validate(\n",
    "    tree_reg, X_prepared, y, cv=3,\n",
    "    scoring=[\"neg_mean_absolute_error\", \"neg_mean_squared_error\", \"neg_mean_absolute_percentage_error\"],\n",
    "    return_train_score=True\n",
    ")"
   ]
  },
  {
   "cell_type": "code",
   "execution_count": null,
   "metadata": {},
   "outputs": [
    {
     "name": "stdout",
     "output_type": "stream",
     "text": [
      "Cross-validation results:\n",
      "CV MAE: [2899.82704092 2938.57464037 2901.20095   ]\n",
      "CV MSE: [68318337.13801794 76928843.89848007 57853956.28625825]\n",
      "CV MAPE: [29.49619122 36.80172851 34.78095754]\n",
      "MAE: 57.273936428816846\n",
      "MSE: 1069645.7876682733\n",
      "MAPE: 7.379309711374425\n"
     ]
    }
   ],
   "source": [
    "cv_mae = -cv_results[\"test_neg_mean_absolute_error\"]\n",
    "cv_mse = -cv_results[\"test_neg_mean_squared_error\"]\n",
    "cv_mape = -cv_results[\"test_neg_mean_absolute_percentage_error\"]\n",
    "print(\"Cross-validation results:\")\n",
    "print(\"CV MAE:\", cv_mae)\n",
    "print(\"CV MSE:\", cv_mse)\n",
    "print(\"CV MAPE:\", cv_mape)\n",
    "\n",
    "print(\"MAE:\", mae)\n",
    "print(\"MSE:\", mse)\n",
    "print(\"MAPE:\", mape)\n"
   ]
  },
  {
   "cell_type": "code",
   "execution_count": null,
   "metadata": {},
   "outputs": [
    {
     "data": {
      "image/png": "[encoded data removed]",
      "text/plain": [
       "<Figure size 1800x400 with 3 Axes>"
      ]
     },
     "metadata": {},
     "output_type": "display_data"
    }
   ],
   "source": [
    "folds = np.arange(1, 4)\n",
    "\n",
    "plt.figure(figsize=(18, 4))\n",
    "\n",
    "# MAE Plot\n",
    "plt.subplot(1, 3, 1)\n",
    "plt.plot(folds, cv_mae, marker='o', label='CV MAE', color='green')\n",
    "plt.axhline(y=mae, color='blue', linestyle='--', label='Train set MAE')\n",
    "plt.title('Mean Absolute Error')\n",
    "plt.xlabel('Fold')\n",
    "plt.ylabel('MAE')\n",
    "plt.xticks(folds)\n",
    "plt.legend()\n",
    "\n",
    "# MSE Plot\n",
    "plt.subplot(1, 3, 2)\n",
    "plt.plot(folds, cv_mse, marker='o', label='CV MSE', color='green')\n",
    "plt.axhline(y=mse, color='blue', linestyle='--', label='Train set MSE')\n",
    "plt.title('Mean Squared Error')\n",
    "plt.xlabel('Fold')\n",
    "plt.ylabel('MSE')\n",
    "plt.xticks(folds)\n",
    "plt.legend()\n",
    "\n",
    "# MAPE Plot\n",
    "plt.subplot(1, 3, 3)\n",
    "plt.plot(folds, cv_mape, marker='o', label='CV MAPE', color='green')\n",
    "plt.axhline(y=mape, color='blue', linestyle='--', label='Train set MAPE')\n",
    "plt.title('Mean Absolute Percentage Error')\n",
    "plt.xlabel('Fold')\n",
    "plt.ylabel('MAPE')\n",
    "plt.xticks(folds)\n",
    "plt.legend()\n",
    "\n",
    "plt.tight_layout()\n",
    "plt.show()\n"
   ]
  },
  {
   "cell_type": "markdown",
   "metadata": {},
   "source": [
    "**Question:** How does the error compare when training with/without cross validation?\n",
    "\n",
    "**Answer:** `The errors are lower when training without cross validation. This is expected, since decision trees are prone to overfitting, and thus, high test errors.`"
   ]
  },
  {
   "cell_type": "markdown",
   "metadata": {},
   "source": [
    "**Task:** Now train a `sklearn.ensemble.RandomForestRegressor` with 3-fold cross validation. Try to find a good combination of hyperparameters by manually changing the `n_estimators` and `max_features` arguments."
   ]
  },
  {
   "cell_type": "code",
   "execution_count": 9,
   "metadata": {},
   "outputs": [],
   "source": [
    "from sklearn.ensemble import RandomForestRegressor\n",
    "import time"
   ]
  },
  {
   "cell_type": "code",
   "execution_count": null,
   "metadata": {},
   "outputs": [
    {
     "name": "stdout",
     "output_type": "stream",
     "text": [
      "Time: 8.365467353661854 minutes\n"
     ]
    }
   ],
   "source": [
    "start_time = time.time()\n",
    "forest_reg = RandomForestRegressor(n_estimators=10, max_features=2, random_state=123)\n",
    "\n",
    "cv_results = cross_validate(\n",
    "    forest_reg, X_prepared, y, cv=3,\n",
    "    scoring=[\"neg_mean_absolute_error\", \"neg_mean_squared_error\", \"neg_mean_absolute_percentage_error\"],\n",
    "    return_train_score=True\n",
    ")\n",
    "\n",
    "end_time = time.time()\n",
    "print(\"Time:\", (end_time - start_time) / 60, \"minutes\")\n"
   ]
  },
  {
   "cell_type": "markdown",
   "metadata": {},
   "source": [
    "This took 8 minutes with only 10 n_estimators and 2 max_features. That is why I'm taking a sample of the training data to train the Random Forest Regressor with 3-fold cross validation."
   ]
  },
  {
   "cell_type": "code",
   "execution_count": 16,
   "metadata": {},
   "outputs": [],
   "source": [
    "n_samples = 3000\n",
    "indicies = np.random.choice(X_prepared.shape[0], n_samples, replace=False)\n",
    "X_sample = X_prepared[indicies]\n",
    "y_sample = y.iloc[indicies]\n",
    "\n",
    "maes = []\n",
    "mses = [] \n",
    "mapes = []"
   ]
  },
  {
   "cell_type": "code",
   "execution_count": null,
   "metadata": {},
   "outputs": [
    {
     "name": "stdout",
     "output_type": "stream",
     "text": [
      "n_estimators: 50, max_features: 2\n",
      "MAE: 6571.023248888888\n",
      "MSE: 452821694.8659136\n",
      "MAPE: 58.73632045443935\n",
      "n_estimators: 50, max_features: 6\n",
      "MAE: 6471.965906666667\n",
      "MSE: 468062765.4322173\n",
      "MAPE: 58.034571935137485\n",
      "n_estimators: 50, max_features: 10\n",
      "MAE: 6476.850815555556\n",
      "MSE: 480314151.2076308\n",
      "MAPE: 59.63123888988137\n",
      "n_estimators: 100, max_features: 2\n",
      "MAE: 6508.084882539682\n",
      "MSE: 452710269.1087006\n",
      "MAPE: 56.725641344460065\n",
      "n_estimators: 100, max_features: 6\n",
      "MAE: 6369.516330793652\n",
      "MSE: 461300647.5550681\n",
      "MAPE: 55.68704725004733\n",
      "n_estimators: 100, max_features: 10\n",
      "MAE: 6298.121956666667\n",
      "MSE: 468406098.22999984\n",
      "MAPE: 58.14350970775191\n",
      "n_estimators: 200, max_features: 2\n",
      "MAE: 6510.34493126984\n",
      "MSE: 457821256.5776414\n",
      "MAPE: 57.36396271352243\n",
      "n_estimators: 200, max_features: 6\n",
      "MAE: 6333.169261984127\n",
      "MSE: 464372742.1222632\n",
      "MAPE: 56.07455313395152\n",
      "n_estimators: 200, max_features: 10\n",
      "MAE: 6271.402280079365\n",
      "MSE: 462867869.94855636\n",
      "MAPE: 57.24066569560781\n",
      "Time: 0.5579482237497966 minutes\n",
      "\n",
      "\n",
      "Lowest MAE: [np.float64(6271.402280079365), 200, 10]\n",
      "Lowest MSE: [np.float64(452710269.1087006), 100, 2]\n",
      "Lowest MAPE: [np.float64(55.68704725004733), 100, 6]\n"
     ]
    }
   ],
   "source": [
    "start_time = time.time()\n",
    "\n",
    "for i in [50, 100, 200]:\n",
    "    for j in [2, 6, 10]:\n",
    "        forest_reg = RandomForestRegressor(n_estimators=i, max_features=j, random_state=123)\n",
    "        cv_results = cross_validate(\n",
    "            forest_reg, X_sample, y_sample, cv=3,\n",
    "            scoring=[\"neg_mean_absolute_error\", \"neg_mean_squared_error\", \"neg_mean_absolute_percentage_error\"]\n",
    "        )\n",
    "        \n",
    "        current_mean_mae = -cv_results[\"test_neg_mean_absolute_error\"].mean()\n",
    "        current_mean_mse = -cv_results[\"test_neg_mean_squared_error\"].mean()\n",
    "        current_mean_mape = -cv_results[\"test_neg_mean_absolute_percentage_error\"].mean()\n",
    "        maes.append([current_mean_mae, i, j])\n",
    "        mses.append([current_mean_mse, i, j])\n",
    "        mapes.append([current_mean_mape, i, j])\n",
    "        print(f\"n_estimators: {i}, max_features: {j}\")\n",
    "        print(\"MAE:\", current_mean_mae)\n",
    "        print(\"MSE:\", current_mean_mse)\n",
    "        print(\"MAPE:\", current_mean_mape)\n",
    "\n",
    "end_time = time.time()\n",
    "print(\"Time:\", (end_time - start_time) / 60, \"minutes\")\n",
    "print(\"\\n\")\n",
    "print(\"Lowest MAE:\", min(maes, key=lambda x: x[0]))\n",
    "print(\"Lowest MSE:\", min(mses, key=lambda x: x[0]))\n",
    "print(\"Lowest MAPE:\", min(mapes, key=lambda x: x[0]))"
   ]
  },
  {
   "cell_type": "markdown",
   "metadata": {},
   "source": [
    "The best combination of those tested above are n_estimators 200 and max_features 10. That makes me want to try even higher numbers."
   ]
  },
  {
   "cell_type": "code",
   "execution_count": null,
   "metadata": {},
   "outputs": [
    {
     "name": "stdout",
     "output_type": "stream",
     "text": [
      "n_estimators: 300, max_features: 5\n",
      "MAE: 5756.949747259259\n",
      "MSE: 83299600.73612566\n",
      "MAPE: 85.49906957783593\n",
      "n_estimators: 300, max_features: 10\n",
      "MAE: 5582.339280333334\n",
      "MSE: 80208077.60295399\n",
      "MAPE: 88.18822290041517\n",
      "n_estimators: 300, max_features: 15\n",
      "MAE: 5497.457684624339\n",
      "MSE: 78938675.38033667\n",
      "MAPE: 87.421825678361\n",
      "n_estimators: 500, max_features: 5\n",
      "MAE: 5733.820254209524\n",
      "MSE: 82879985.90367483\n",
      "MAPE: 85.4456894587746\n",
      "n_estimators: 500, max_features: 10\n",
      "MAE: 5564.110410422222\n",
      "MSE: 79593803.92561857\n",
      "MAPE: 87.67638229910217\n",
      "n_estimators: 500, max_features: 15\n",
      "MAE: 5491.716890819048\n",
      "MSE: 78670391.5056514\n",
      "MAPE: 87.17449751969859\n",
      "n_estimators: 1000, max_features: 5\n",
      "MAE: 5724.180970371429\n",
      "MSE: 82648191.03439651\n",
      "MAPE: 85.73759473194694\n",
      "n_estimators: 1000, max_features: 10\n",
      "MAE: 5555.536488944445\n",
      "MSE: 79457741.72645243\n",
      "MAPE: 87.73287357184536\n",
      "n_estimators: 1000, max_features: 15\n",
      "MAE: 5476.412594098412\n",
      "MSE: 78353767.24989411\n",
      "MAPE: 87.90159392644956\n",
      "Time: 2.886273189385732 minutes\n",
      "\n",
      "\n",
      "Lowest MAE: [np.float64(5476.412594098412), 1000, 15]\n",
      "Lowest MSE: [np.float64(78353767.24989411), 1000, 15]\n",
      "Lowest MAPE: [np.float64(85.4456894587746), 500, 5]\n"
     ]
    }
   ],
   "source": [
    "start_time = time.time()\n",
    "\n",
    "for i in [300, 500, 1000]:\n",
    "    for j in [5, 10, 15]:\n",
    "        forest_reg = RandomForestRegressor(n_estimators=i, max_features=j, random_state=123)\n",
    "        cv_results = cross_validate(\n",
    "            forest_reg, X_sample, y_sample, cv=3,\n",
    "            scoring=[\"neg_mean_absolute_error\", \"neg_mean_squared_error\", \"neg_mean_absolute_percentage_error\"]\n",
    "        )\n",
    "        current_mean_mae = -cv_results[\"test_neg_mean_absolute_error\"].mean()\n",
    "        current_mean_mse = -cv_results[\"test_neg_mean_squared_error\"].mean()\n",
    "        current_mean_mape = -cv_results[\"test_neg_mean_absolute_percentage_error\"].mean()\n",
    "        maes.append([current_mean_mae, i, j])\n",
    "        mses.append([current_mean_mse, i, j])\n",
    "        mapes.append([current_mean_mape, i, j])\n",
    "        print(f\"n_estimators: {i}, max_features: {j}\")\n",
    "        print(\"MAE:\", current_mean_mae)\n",
    "        print(\"MSE:\", current_mean_mse)\n",
    "        print(\"MAPE:\", current_mean_mape)\n",
    "\n",
    "\n",
    "end_time = time.time()\n",
    "print(\"Time:\", (end_time - start_time) / 60, \"minutes\")\n",
    "print(\"\\n\")\n",
    "print(\"Lowest MAE:\", min(maes, key=lambda x: x[0]))\n",
    "print(\"Lowest MSE:\", min(mses, key=lambda x: x[0]))\n",
    "print(\"Lowest MAPE:\", min(mapes, key=lambda x: x[0]))"
   ]
  },
  {
   "cell_type": "markdown",
   "metadata": {},
   "source": [
    "**Question:** What was the best combination of hyperparameters you found and what was the error?\n",
    "\n",
    "**Answer:** `MAPE is lowest with 500 estimators and max 5 features, while both MAE and MSE are lowest with 1000 estimators and 15 max features. `"
   ]
  },
  {
   "cell_type": "markdown",
   "metadata": {},
   "source": [
    "**New answer after more sampling:** I probably wouldn't have run it again with higher values if I'd sampled it properly in the start.\n",
    "\n",
    "MAE was lowest with 200 estimators and 10 max features: 6271\n",
    "\n",
    "MSE was lowest with 100 estimators and 2 max features: 452710269\n",
    "\n",
    "MAPE was lowest with 100 estimators and 6 max features: 55\n",
    "\n"
   ]
  },
  {
   "cell_type": "markdown",
   "metadata": {},
   "source": [
    "**Task:** Train a `RandomForestRegressor` model, this time using `sklearn.model_selection.GridSearchCV` to find a good combination of the hyperparameters `n_estimators` and `max_features`.\n",
    "\n",
    "How long does the `GridSearchCV` take? \n",
    "\n",
    "*Hint*: You can use the `time` python module to record the time taken."
   ]
  },
  {
   "cell_type": "code",
   "execution_count": 22,
   "metadata": {},
   "outputs": [
    {
     "name": "stdout",
     "output_type": "stream",
     "text": [
      "Time: 1.5584163427352906 minutes\n",
      "Best parameters: {'max_depth': 30, 'max_features': 15, 'n_estimators': 300}\n",
      "Best MAE: 5279.071686074761\n",
      "Best MSE: 72355942.3862028\n",
      "Best MAPE: 80.80600149972734\n"
     ]
    }
   ],
   "source": [
    "from sklearn.model_selection import GridSearchCV\n",
    "\n",
    "start_time = time.time()\n",
    "\n",
    "param_grid = [\n",
    "    {\n",
    "        'n_estimators': [100, 200, 300],\n",
    "        'max_features': [5, 10, 15],\n",
    "        'max_depth': [10, 20, 30]\n",
    "    }\n",
    "]\n",
    "random_forest_reg = RandomForestRegressor(random_state=123)\n",
    "grid_search = GridSearchCV(\n",
    "    random_forest_reg, param_grid, cv=3,\n",
    "    scoring=[\"neg_mean_absolute_error\", \"neg_mean_squared_error\", \"neg_mean_absolute_percentage_error\"],\n",
    "    refit=\"neg_mean_absolute_error\"\n",
    ")\n",
    "\n",
    "grid_search.fit(X_sample, y_sample)\n",
    "\n",
    "end_time = time.time()\n",
    "print(\"Time:\", (end_time - start_time) / 60, \"minutes\")\n",
    "print(\"Best parameters:\", grid_search.best_params_)\n",
    "print(\"Best MAE:\", -grid_search.best_score_)\n",
    "print(\"Best MSE:\", -grid_search.cv_results_['mean_test_neg_mean_squared_error'][grid_search.best_index_])\n",
    "print(\"Best MAPE:\", -grid_search.cv_results_['mean_test_neg_mean_absolute_percentage_error'][grid_search.best_index_])\n"
   ]
  },
  {
   "cell_type": "markdown",
   "metadata": {},
   "source": [
    "**Question:** What was the best combination of hyperparameters you found using `GridSearchCV`and what was the error?\n",
    "\n",
    "**Answer:** `The best combination is 200 estimators and 10 max features, with MAE 6271.`"
   ]
  },
  {
   "cell_type": "markdown",
   "metadata": {},
   "source": [
    "**Task:** Again, look for good hyperparameters for training a `RandomForestRegressor` model, but this time using `sklearn.model_selection.RandomSearchCV`."
   ]
  },
  {
   "cell_type": "code",
   "execution_count": 17,
   "metadata": {},
   "outputs": [
    {
     "name": "stdout",
     "output_type": "stream",
     "text": [
      "Time: 0.11378621260325114 minutes\n",
      "Best parameters: {'n_estimators': 50, 'max_features': 10, 'max_depth': 10}\n",
      "Best MAE: 6584.533692233551\n",
      "Best MSE: 93079882.23784445\n",
      "Best MAPE: 84.26924436236364\n"
     ]
    }
   ],
   "source": [
    "from sklearn.model_selection import RandomizedSearchCV\n",
    "\n",
    "start_time = time.time()\n",
    "\n",
    "param_grid = {\n",
    "    'n_estimators': [50, 100, 200],\n",
    "    'max_features': [2, 5, 10],\n",
    "    'max_depth': [3, 8, 10],\n",
    "}\n",
    "\n",
    "random_forest_reg = RandomForestRegressor(random_state=123)\n",
    "random_search = RandomizedSearchCV(\n",
    "    random_forest_reg, param_grid, cv=3,\n",
    "    scoring=[\"neg_mean_absolute_error\", \"neg_mean_squared_error\", \"neg_mean_absolute_percentage_error\"],\n",
    "    refit=\"neg_mean_absolute_error\",\n",
    "    random_state=123\n",
    ")\n",
    "\n",
    "random_search.fit(X_sample, y_sample)\n",
    "\n",
    "end_time = time.time()\n",
    "print(\"Time:\", (end_time - start_time) / 60, \"minutes\")\n",
    "print(\"Best parameters:\", random_search.best_params_)\n",
    "print(\"Best MAE:\", -random_search.best_score_)\n",
    "print(\"Best MSE:\", -random_search.cv_results_['mean_test_neg_mean_squared_error'][random_search.best_index_])\n",
    "print(\"Best MAPE:\", -random_search.cv_results_['mean_test_neg_mean_absolute_percentage_error'][random_search.best_index_])"
   ]
  },
  {
   "cell_type": "markdown",
   "metadata": {},
   "source": [
    "**Task:** Now try other regression models, including Polynomial Regression and SVM regression with different kernel types. Make sure you use cross validation and look for good hyperparameters."
   ]
  },
  {
   "cell_type": "code",
   "execution_count": null,
   "metadata": {},
   "outputs": [
    {
     "name": "stdout",
     "output_type": "stream",
     "text": [
      "Best SVR parameters: {'C': 10, 'degree': 2, 'epsilon': 0.5, 'kernel': 'linear'}\n",
      "Best SVR MAE: 9253.187753071927\n"
     ]
    }
   ],
   "source": [
    "from sklearn.svm import SVR\n",
    "\n",
    "param_grid = {\n",
    "    'kernel': ['linear', 'poly', 'rbf', 'sigmoid'],\n",
    "    'C': [0.1, 1, 10],\n",
    "    'degree': [2, 3, 4],\n",
    "    'epsilon': [0.01, 0.1, 0.5]\n",
    "}\n",
    "\n",
    "SVR_model = SVR(kernel='linear', C=1.0, epsilon=0.1)\n",
    "grid_search = GridSearchCV(\n",
    "    SVR_model, param_grid, cv=3,\n",
    "    scoring=[\"neg_mean_absolute_error\", \"neg_mean_squared_error\", \"neg_mean_absolute_percentage_error\"],\n",
    "    refit=\"neg_mean_absolute_error\"\n",
    ")\n",
    "grid_search.fit(X_sample, y_sample)\n",
    "print(\"Best SVR parameters:\", grid_search.best_params_)\n",
    "print(\"Best SVR MAE:\", -grid_search.best_score_)"
   ]
  },
  {
   "cell_type": "code",
   "execution_count": 48,
   "metadata": {},
   "outputs": [
    {
     "name": "stdout",
     "output_type": "stream",
     "text": [
      "Best Gradient Boosting parameters: {'n_estimators': 200, 'max_features': 2, 'learning_rate': 0.1}\n",
      "Best Gradient Boosting MAE: 6869.2267985120225\n"
     ]
    }
   ],
   "source": [
    "from sklearn.ensemble import GradientBoostingRegressor\n",
    "\n",
    "n_samples = 1000\n",
    "indicies = np.random.choice(X_prepared.shape[0], n_samples, replace=False)\n",
    "X_sample = X_prepared[indicies]\n",
    "y_sample = y.iloc[indicies]\n",
    "\n",
    "gb_reg = GradientBoostingRegressor(random_state=123)\n",
    "param_grid = {\n",
    "    'n_estimators': [50, 100, 200],\n",
    "    'max_features': [2, 5, 10],\n",
    "    'learning_rate': [0.01, 0.1, 0.5]\n",
    "}\n",
    "\n",
    "random_search = RandomizedSearchCV(\n",
    "    gb_reg, param_grid, n_iter=10, cv=3,\n",
    "    scoring=[\"neg_mean_absolute_error\", \"neg_mean_squared_error\", \"neg_mean_absolute_percentage_error\"],\n",
    "    refit=\"neg_mean_absolute_error\",\n",
    "    random_state=123\n",
    ")\n",
    "random_search.fit(X_sample, y_sample)\n",
    "print(\"Best Gradient Boosting parameters:\", random_search.best_params_)\n",
    "print(\"Best Gradient Boosting MAE:\", -random_search.best_score_)"
   ]
  },
  {
   "cell_type": "code",
   "execution_count": 56,
   "metadata": {},
   "outputs": [
    {
     "name": "stdout",
     "output_type": "stream",
     "text": [
      "Best Polynomial MAE: 9520.615209839276\n"
     ]
    }
   ],
   "source": [
    "from sklearn.preprocessing import PolynomialFeatures\n",
    "from sklearn.model_selection import RandomizedSearchCV\n",
    "\n",
    "n_samples = 10\n",
    "indicies = np.random.choice(X_prepared.shape[0], n_samples, replace=False)\n",
    "X_sample = X_prepared[indicies]\n",
    "y_sample = y.iloc[indicies]\n",
    "\n",
    "poly_pipeline = Pipeline([\n",
    "    ('poly', PolynomialFeatures()),\n",
    "    ('linreg', LinearRegression())\n",
    "])\n",
    "\n",
    "param_grid = {\n",
    "    'poly__degree': [2]\n",
    "}\n",
    "random_search = RandomizedSearchCV(\n",
    "    poly_pipeline, param_grid, n_iter=1, cv=3,\n",
    "    scoring=[\"neg_mean_absolute_error\", \"neg_mean_squared_error\", \"neg_mean_absolute_percentage_error\"],\n",
    "    refit=\"neg_mean_absolute_error\",\n",
    "    random_state=123\n",
    ")\n",
    "random_search.fit(X_sample, y_sample)\n",
    "\n",
    "print(\"Best Polynomial MAE:\", -random_search.best_score_)"
   ]
  },
  {
   "cell_type": "markdown",
   "metadata": {},
   "source": [
    "**Question:** What models did you try and what was the best hyperparameter combination for the best model? Did you get a decrease in validation error?"
   ]
  },
  {
   "cell_type": "markdown",
   "metadata": {},
   "source": [
    "Random Forest with 1000 estimators and 15 max features was the best model according to Mean Absolute Error. A close second is the Gradient Boosting Regressor with 50 estimators, 10 max features and learning rate 0.5."
   ]
  },
  {
   "cell_type": "markdown",
   "metadata": {},
   "source": [
    "**Task:** Retrain your best model on the full training set. What is the resulting mean squared error, root mean squared error, mean absolute error and mean absolute percentage error?"
   ]
  },
  {
   "cell_type": "code",
   "execution_count": 23,
   "metadata": {},
   "outputs": [
    {
     "name": "stdout",
     "output_type": "stream",
     "text": [
      "Time: 71.7279931227366 minutes\n",
      "MSE: 18972381.85324358\n",
      "RMSE: 4355.729772752618\n",
      "MAE: 2262.9295181104053\n",
      "MAPE: 32.20111648813969\n"
     ]
    }
   ],
   "source": [
    "start_time = time.time()\n",
    "\n",
    "random_forest_reg = RandomForestRegressor(random_state=123, n_estimators=300, max_features=15, max_depth=30)\n",
    "random_forest_reg.fit(X_prepared, y)\n",
    "\n",
    "end_time = time.time()\n",
    "print(\"Time:\", (end_time - start_time) / 60, \"minutes\")\n",
    "\n",
    "print(\"MSE:\", mean_squared_error(y, random_forest_reg.predict(X_prepared)))\n",
    "print(\"RMSE:\", np.sqrt(mean_squared_error(y, random_forest_reg.predict(X_prepared))))\n",
    "print(\"MAE:\", mean_absolute_error(y, random_forest_reg.predict(X_prepared)))\n",
    "print(\"MAPE:\", mean_absolute_percentage_error(y, random_forest_reg.predict(X_prepared)))"
   ]
  },
  {
   "cell_type": "code",
   "execution_count": 24,
   "metadata": {},
   "outputs": [
    {
     "ename": "FileNotFoundError",
     "evalue": "[Errno 2] No such file or directory: '../models/pipeline.pkl'",
     "output_type": "error",
     "traceback": [
      "\u001b[31m---------------------------------------------------------------------------\u001b[39m",
      "\u001b[31mFileNotFoundError\u001b[39m                         Traceback (most recent call last)",
      "\u001b[36mCell\u001b[39m\u001b[36m \u001b[39m\u001b[32mIn[24]\u001b[39m\u001b[32m, line 3\u001b[39m\n\u001b[32m      1\u001b[39m \u001b[38;5;28;01mimport\u001b[39;00m\u001b[38;5;250m \u001b[39m\u001b[34;01mpickle\u001b[39;00m\n\u001b[32m----> \u001b[39m\u001b[32m3\u001b[39m pickle.dump(pipeline, \u001b[38;5;28;43mopen\u001b[39;49m\u001b[43m(\u001b[49m\u001b[33;43m\"\u001b[39;49m\u001b[33;43m../models/pipeline.pkl\u001b[39;49m\u001b[33;43m\"\u001b[39;49m\u001b[43m,\u001b[49m\u001b[43m \u001b[49m\u001b[33;43m\"\u001b[39;49m\u001b[33;43mwb\u001b[39;49m\u001b[33;43m\"\u001b[39;49m\u001b[43m)\u001b[49m)\n\u001b[32m      4\u001b[39m pickle.dump(random_forest_reg, \u001b[38;5;28mopen\u001b[39m(\u001b[33m\"\u001b[39m\u001b[33m../models/random_forest_model.pkl\u001b[39m\u001b[33m\"\u001b[39m, \u001b[33m\"\u001b[39m\u001b[33mwb\u001b[39m\u001b[33m\"\u001b[39m))\n",
      "\u001b[36mFile \u001b[39m\u001b[32mc:\\Users\\arojo\\Documents\\MSc Data Science\\Vor 25\\APDS\\venv\\Lib\\site-packages\\IPython\\core\\interactiveshell.py:326\u001b[39m, in \u001b[36m_modified_open\u001b[39m\u001b[34m(file, *args, **kwargs)\u001b[39m\n\u001b[32m    319\u001b[39m \u001b[38;5;28;01mif\u001b[39;00m file \u001b[38;5;129;01min\u001b[39;00m {\u001b[32m0\u001b[39m, \u001b[32m1\u001b[39m, \u001b[32m2\u001b[39m}:\n\u001b[32m    320\u001b[39m     \u001b[38;5;28;01mraise\u001b[39;00m \u001b[38;5;167;01mValueError\u001b[39;00m(\n\u001b[32m    321\u001b[39m         \u001b[33mf\u001b[39m\u001b[33m\"\u001b[39m\u001b[33mIPython won\u001b[39m\u001b[33m'\u001b[39m\u001b[33mt let you open fd=\u001b[39m\u001b[38;5;132;01m{\u001b[39;00mfile\u001b[38;5;132;01m}\u001b[39;00m\u001b[33m by default \u001b[39m\u001b[33m\"\u001b[39m\n\u001b[32m    322\u001b[39m         \u001b[33m\"\u001b[39m\u001b[33mas it is likely to crash IPython. If you know what you are doing, \u001b[39m\u001b[33m\"\u001b[39m\n\u001b[32m    323\u001b[39m         \u001b[33m\"\u001b[39m\u001b[33myou can use builtins\u001b[39m\u001b[33m'\u001b[39m\u001b[33m open.\u001b[39m\u001b[33m\"\u001b[39m\n\u001b[32m    324\u001b[39m     )\n\u001b[32m--> \u001b[39m\u001b[32m326\u001b[39m \u001b[38;5;28;01mreturn\u001b[39;00m \u001b[43mio_open\u001b[49m\u001b[43m(\u001b[49m\u001b[43mfile\u001b[49m\u001b[43m,\u001b[49m\u001b[43m \u001b[49m\u001b[43m*\u001b[49m\u001b[43margs\u001b[49m\u001b[43m,\u001b[49m\u001b[43m \u001b[49m\u001b[43m*\u001b[49m\u001b[43m*\u001b[49m\u001b[43mkwargs\u001b[49m\u001b[43m)\u001b[49m\n",
      "\u001b[31mFileNotFoundError\u001b[39m: [Errno 2] No such file or directory: '../models/pipeline.pkl'"
     ]
    }
   ],
   "source": [
    "import pickle\n",
    "\n",
    "pickle.dump(pipeline, open(\"../models/pipeline.pkl\", \"wb\"))\n",
    "pickle.dump(random_forest_reg, open(\"../models/random_forest_model.pkl\", \"wb\"))"
   ]
  },
  {
   "cell_type": "markdown",
   "metadata": {},
   "source": [
    "In the upcoming lectures, you will learn about some more modeling techniques, including Deep Learning. We will be trying those techniques on our dataset as well, so we are not yet done with this training data. Thus, we will not evaluate our best model on the test data at this stage."
   ]
  },
  {
   "cell_type": "markdown",
   "metadata": {},
   "source": [
    "## Classification\n",
    "\n",
    "Luxury cars probably have a different price distribution to other car categories. Can we distinguish between luxury cars and non-luxury cars without knowing the car's model, make and price?\n",
    "\n",
    "We will now try classifying cars in the MSRP dataset into luxury and non-luxury categories. We will imagine that we do not have the  `model`, `make`, `msrp` and `popularity` attributes and see how accurately we can spot luxury cars.\n",
    "\n",
    "Since the cars in the MSRP dataset are often assigned multiple market categories, we need to decide how to create a binary luxury/non-luxury variable. We will assume that the car is a luxury vehicle if one of the listed categories is `Luxury`."
   ]
  },
  {
   "cell_type": "code",
   "execution_count": 7,
   "metadata": {},
   "outputs": [],
   "source": [
    "msrp_df = pd.read_csv(\"../data/msrp_data.csv\")"
   ]
  },
  {
   "cell_type": "code",
   "execution_count": 8,
   "metadata": {},
   "outputs": [],
   "source": [
    "for col in msrp_df.columns:\n",
    "    new_col = '_'.join(col.lower().split(' '))\n",
    "    msrp_df.rename({col: new_col}, inplace=True, axis=1)"
   ]
  },
  {
   "cell_type": "code",
   "execution_count": 9,
   "metadata": {},
   "outputs": [],
   "source": [
    "msrp_df['is_luxury'] = msrp_df.market_category.str.contains('Luxury')"
   ]
  },
  {
   "cell_type": "code",
   "execution_count": 10,
   "metadata": {},
   "outputs": [],
   "source": [
    "msrp_df = msrp_df.drop(columns=['model','market_category', 'make', 'msrp', 'popularity'])"
   ]
  },
  {
   "cell_type": "code",
   "execution_count": 11,
   "metadata": {},
   "outputs": [],
   "source": [
    "msrp_train_set, msrp_test_set = train_test_split(\n",
    "    msrp_df.dropna(subset=['is_luxury']), \n",
    "    test_size=0.1, \n",
    "    random_state=123)\n",
    "msrp_train_df = msrp_train_set.copy()"
   ]
  },
  {
   "cell_type": "markdown",
   "metadata": {},
   "source": [
    "**Task:** Make sure you understand what the above code is doing and verify that `msrp_train_df` has the features we need."
   ]
  },
  {
   "cell_type": "markdown",
   "metadata": {},
   "source": [
    "**Task:** Get familiar with the training data, assuming now that `is_luxury` is our target variable."
   ]
  },
  {
   "cell_type": "code",
   "execution_count": 12,
   "metadata": {},
   "outputs": [
    {
     "name": "stdout",
     "output_type": "stream",
     "text": [
      "is_luxury\n",
      "False    4411\n",
      "True     2943\n",
      "Name: count, dtype: int64\n",
      "is_luxury\n",
      "False    0.59981\n",
      "True     0.40019\n",
      "Name: proportion, dtype: float64\n"
     ]
    },
    {
     "data": {
      "application/vnd.microsoft.datawrangler.viewer.v0+json": {
       "columns": [
        {
         "name": "index",
         "rawType": "int64",
         "type": "integer"
        },
        {
         "name": "year",
         "rawType": "int64",
         "type": "integer"
        },
        {
         "name": "engine_fuel_type",
         "rawType": "object",
         "type": "string"
        },
        {
         "name": "engine_hp",
         "rawType": "float64",
         "type": "float"
        },
        {
         "name": "engine_cylinders",
         "rawType": "float64",
         "type": "float"
        },
        {
         "name": "transmission_type",
         "rawType": "object",
         "type": "string"
        },
        {
         "name": "driven_wheels",
         "rawType": "object",
         "type": "string"
        },
        {
         "name": "number_of_doors",
         "rawType": "float64",
         "type": "float"
        },
        {
         "name": "vehicle_size",
         "rawType": "object",
         "type": "string"
        },
        {
         "name": "vehicle_style",
         "rawType": "object",
         "type": "string"
        },
        {
         "name": "highway_mpg",
         "rawType": "int64",
         "type": "integer"
        },
        {
         "name": "city_mpg",
         "rawType": "int64",
         "type": "integer"
        },
        {
         "name": "is_luxury",
         "rawType": "object",
         "type": "unknown"
        }
       ],
       "conversionMethod": "pd.DataFrame",
       "ref": "72f997d7-51ad-4cf1-a154-beb28284388c",
       "rows": [
        [
         "2876",
         "2016",
         "premium unleaded (required)",
         "521.0",
         "8.0",
         "AUTOMATIC",
         "all wheel drive",
         "2.0",
         "Midsize",
         "Coupe",
         "25",
         "15",
         "True"
        ],
        [
         "4564",
         "2017",
         "regular unleaded",
         "325.0",
         "6.0",
         "AUTOMATIC",
         "four wheel drive",
         "4.0",
         "Large",
         "Crew Cab Pickup",
         "23",
         "18",
         "False"
        ],
        [
         "7937",
         "2016",
         "premium unleaded (recommended)",
         "265.0",
         "6.0",
         "AUTOMATIC",
         "front wheel drive",
         "4.0",
         "Large",
         "4dr SUV",
         "27",
         "21",
         "True"
        ],
        [
         "3373",
         "2016",
         "regular unleaded",
         "184.0",
         "4.0",
         "AUTOMATIC",
         "front wheel drive",
         "4.0",
         "Midsize",
         "4dr SUV",
         "33",
         "26",
         "False"
        ],
        [
         "8774",
         "2003",
         "flex-fuel (unleaded/E85)",
         "120.0",
         "4.0",
         "AUTOMATIC",
         "rear wheel drive",
         "2.0",
         "Compact",
         "Regular Cab Pickup",
         "23",
         "17",
         "False"
        ],
        [
         "4882",
         "2017",
         "regular unleaded",
         "164.0",
         "4.0",
         "AUTOMATIC",
         "front wheel drive",
         "4.0",
         "Compact",
         "4dr Hatchback",
         "34",
         "25",
         "False"
        ],
        [
         "1012",
         "1995",
         "regular unleaded",
         "236.0",
         "4.0",
         "MANUAL",
         "rear wheel drive",
         "2.0",
         "Compact",
         "Coupe",
         "24",
         "15",
         "True"
        ],
        [
         "5935",
         "2001",
         "regular unleaded",
         "140.0",
         "4.0",
         "MANUAL",
         "front wheel drive",
         "4.0",
         "Compact",
         "Sedan",
         "28",
         "22",
         "True"
        ],
        [
         "10765",
         "2015",
         "regular unleaded",
         "138.0",
         "4.0",
         "AUTOMATIC",
         "front wheel drive",
         "4.0",
         "Compact",
         "4dr SUV",
         "34",
         "26",
         "False"
        ],
        [
         "6486",
         "2016",
         "premium unleaded (required)",
         "386.0",
         "8.0",
         "AUTOMATIC",
         "rear wheel drive",
         "4.0",
         "Large",
         "Sedan",
         "24",
         "16",
         "True"
        ]
       ],
       "shape": {
        "columns": 12,
        "rows": 10
       }
      },
      "text/html": [
       "<div>\n",
       "<style scoped>\n",
       "    .dataframe tbody tr th:only-of-type {\n",
       "        vertical-align: middle;\n",
       "    }\n",
       "\n",
       "    .dataframe tbody tr th {\n",
       "        vertical-align: top;\n",
       "    }\n",
       "\n",
       "    .dataframe thead th {\n",
       "        text-align: right;\n",
       "    }\n",
       "</style>\n",
       "<table border=\"1\" class=\"dataframe\">\n",
       "  <thead>\n",
       "    <tr style=\"text-align: right;\">\n",
       "      <th></th>\n",
       "      <th>year</th>\n",
       "      <th>engine_fuel_type</th>\n",
       "      <th>engine_hp</th>\n",
       "      <th>engine_cylinders</th>\n",
       "      <th>transmission_type</th>\n",
       "      <th>driven_wheels</th>\n",
       "      <th>number_of_doors</th>\n",
       "      <th>vehicle_size</th>\n",
       "      <th>vehicle_style</th>\n",
       "      <th>highway_mpg</th>\n",
       "      <th>city_mpg</th>\n",
       "      <th>is_luxury</th>\n",
       "    </tr>\n",
       "  </thead>\n",
       "  <tbody>\n",
       "    <tr>\n",
       "      <th>2876</th>\n",
       "      <td>2016</td>\n",
       "      <td>premium unleaded (required)</td>\n",
       "      <td>521.0</td>\n",
       "      <td>8.0</td>\n",
       "      <td>AUTOMATIC</td>\n",
       "      <td>all wheel drive</td>\n",
       "      <td>2.0</td>\n",
       "      <td>Midsize</td>\n",
       "      <td>Coupe</td>\n",
       "      <td>25</td>\n",
       "      <td>15</td>\n",
       "      <td>True</td>\n",
       "    </tr>\n",
       "    <tr>\n",
       "      <th>4564</th>\n",
       "      <td>2017</td>\n",
       "      <td>regular unleaded</td>\n",
       "      <td>325.0</td>\n",
       "      <td>6.0</td>\n",
       "      <td>AUTOMATIC</td>\n",
       "      <td>four wheel drive</td>\n",
       "      <td>4.0</td>\n",
       "      <td>Large</td>\n",
       "      <td>Crew Cab Pickup</td>\n",
       "      <td>23</td>\n",
       "      <td>18</td>\n",
       "      <td>False</td>\n",
       "    </tr>\n",
       "    <tr>\n",
       "      <th>7937</th>\n",
       "      <td>2016</td>\n",
       "      <td>premium unleaded (recommended)</td>\n",
       "      <td>265.0</td>\n",
       "      <td>6.0</td>\n",
       "      <td>AUTOMATIC</td>\n",
       "      <td>front wheel drive</td>\n",
       "      <td>4.0</td>\n",
       "      <td>Large</td>\n",
       "      <td>4dr SUV</td>\n",
       "      <td>27</td>\n",
       "      <td>21</td>\n",
       "      <td>True</td>\n",
       "    </tr>\n",
       "    <tr>\n",
       "      <th>3373</th>\n",
       "      <td>2016</td>\n",
       "      <td>regular unleaded</td>\n",
       "      <td>184.0</td>\n",
       "      <td>4.0</td>\n",
       "      <td>AUTOMATIC</td>\n",
       "      <td>front wheel drive</td>\n",
       "      <td>4.0</td>\n",
       "      <td>Midsize</td>\n",
       "      <td>4dr SUV</td>\n",
       "      <td>33</td>\n",
       "      <td>26</td>\n",
       "      <td>False</td>\n",
       "    </tr>\n",
       "    <tr>\n",
       "      <th>8774</th>\n",
       "      <td>2003</td>\n",
       "      <td>flex-fuel (unleaded/E85)</td>\n",
       "      <td>120.0</td>\n",
       "      <td>4.0</td>\n",
       "      <td>AUTOMATIC</td>\n",
       "      <td>rear wheel drive</td>\n",
       "      <td>2.0</td>\n",
       "      <td>Compact</td>\n",
       "      <td>Regular Cab Pickup</td>\n",
       "      <td>23</td>\n",
       "      <td>17</td>\n",
       "      <td>False</td>\n",
       "    </tr>\n",
       "    <tr>\n",
       "      <th>4882</th>\n",
       "      <td>2017</td>\n",
       "      <td>regular unleaded</td>\n",
       "      <td>164.0</td>\n",
       "      <td>4.0</td>\n",
       "      <td>AUTOMATIC</td>\n",
       "      <td>front wheel drive</td>\n",
       "      <td>4.0</td>\n",
       "      <td>Compact</td>\n",
       "      <td>4dr Hatchback</td>\n",
       "      <td>34</td>\n",
       "      <td>25</td>\n",
       "      <td>False</td>\n",
       "    </tr>\n",
       "    <tr>\n",
       "      <th>1012</th>\n",
       "      <td>1995</td>\n",
       "      <td>regular unleaded</td>\n",
       "      <td>236.0</td>\n",
       "      <td>4.0</td>\n",
       "      <td>MANUAL</td>\n",
       "      <td>rear wheel drive</td>\n",
       "      <td>2.0</td>\n",
       "      <td>Compact</td>\n",
       "      <td>Coupe</td>\n",
       "      <td>24</td>\n",
       "      <td>15</td>\n",
       "      <td>True</td>\n",
       "    </tr>\n",
       "    <tr>\n",
       "      <th>5935</th>\n",
       "      <td>2001</td>\n",
       "      <td>regular unleaded</td>\n",
       "      <td>140.0</td>\n",
       "      <td>4.0</td>\n",
       "      <td>MANUAL</td>\n",
       "      <td>front wheel drive</td>\n",
       "      <td>4.0</td>\n",
       "      <td>Compact</td>\n",
       "      <td>Sedan</td>\n",
       "      <td>28</td>\n",
       "      <td>22</td>\n",
       "      <td>True</td>\n",
       "    </tr>\n",
       "    <tr>\n",
       "      <th>10765</th>\n",
       "      <td>2015</td>\n",
       "      <td>regular unleaded</td>\n",
       "      <td>138.0</td>\n",
       "      <td>4.0</td>\n",
       "      <td>AUTOMATIC</td>\n",
       "      <td>front wheel drive</td>\n",
       "      <td>4.0</td>\n",
       "      <td>Compact</td>\n",
       "      <td>4dr SUV</td>\n",
       "      <td>34</td>\n",
       "      <td>26</td>\n",
       "      <td>False</td>\n",
       "    </tr>\n",
       "    <tr>\n",
       "      <th>6486</th>\n",
       "      <td>2016</td>\n",
       "      <td>premium unleaded (required)</td>\n",
       "      <td>386.0</td>\n",
       "      <td>8.0</td>\n",
       "      <td>AUTOMATIC</td>\n",
       "      <td>rear wheel drive</td>\n",
       "      <td>4.0</td>\n",
       "      <td>Large</td>\n",
       "      <td>Sedan</td>\n",
       "      <td>24</td>\n",
       "      <td>16</td>\n",
       "      <td>True</td>\n",
       "    </tr>\n",
       "  </tbody>\n",
       "</table>\n",
       "</div>"
      ],
      "text/plain": [
       "       year                engine_fuel_type  engine_hp  engine_cylinders  \\\n",
       "2876   2016     premium unleaded (required)      521.0               8.0   \n",
       "4564   2017                regular unleaded      325.0               6.0   \n",
       "7937   2016  premium unleaded (recommended)      265.0               6.0   \n",
       "3373   2016                regular unleaded      184.0               4.0   \n",
       "8774   2003        flex-fuel (unleaded/E85)      120.0               4.0   \n",
       "4882   2017                regular unleaded      164.0               4.0   \n",
       "1012   1995                regular unleaded      236.0               4.0   \n",
       "5935   2001                regular unleaded      140.0               4.0   \n",
       "10765  2015                regular unleaded      138.0               4.0   \n",
       "6486   2016     premium unleaded (required)      386.0               8.0   \n",
       "\n",
       "      transmission_type      driven_wheels  number_of_doors vehicle_size  \\\n",
       "2876          AUTOMATIC    all wheel drive              2.0      Midsize   \n",
       "4564          AUTOMATIC   four wheel drive              4.0        Large   \n",
       "7937          AUTOMATIC  front wheel drive              4.0        Large   \n",
       "3373          AUTOMATIC  front wheel drive              4.0      Midsize   \n",
       "8774          AUTOMATIC   rear wheel drive              2.0      Compact   \n",
       "4882          AUTOMATIC  front wheel drive              4.0      Compact   \n",
       "1012             MANUAL   rear wheel drive              2.0      Compact   \n",
       "5935             MANUAL  front wheel drive              4.0      Compact   \n",
       "10765         AUTOMATIC  front wheel drive              4.0      Compact   \n",
       "6486          AUTOMATIC   rear wheel drive              4.0        Large   \n",
       "\n",
       "            vehicle_style  highway_mpg  city_mpg is_luxury  \n",
       "2876                Coupe           25        15      True  \n",
       "4564      Crew Cab Pickup           23        18     False  \n",
       "7937              4dr SUV           27        21      True  \n",
       "3373              4dr SUV           33        26     False  \n",
       "8774   Regular Cab Pickup           23        17     False  \n",
       "4882        4dr Hatchback           34        25     False  \n",
       "1012                Coupe           24        15      True  \n",
       "5935                Sedan           28        22      True  \n",
       "10765             4dr SUV           34        26     False  \n",
       "6486                Sedan           24        16      True  "
      ]
     },
     "execution_count": 12,
     "metadata": {},
     "output_type": "execute_result"
    }
   ],
   "source": [
    "print(msrp_train_df['is_luxury'].value_counts())\n",
    "print(msrp_train_df['is_luxury'].value_counts(normalize=True)) # Porportion\n",
    "msrp_train_df.head(10)"
   ]
  },
  {
   "cell_type": "code",
   "execution_count": 13,
   "metadata": {},
   "outputs": [
    {
     "data": {
      "application/vnd.microsoft.datawrangler.viewer.v0+json": {
       "columns": [
        {
         "name": "index",
         "rawType": "object",
         "type": "string"
        },
        {
         "name": "year",
         "rawType": "float64",
         "type": "float"
        },
        {
         "name": "engine_fuel_type",
         "rawType": "object",
         "type": "unknown"
        },
        {
         "name": "engine_hp",
         "rawType": "float64",
         "type": "float"
        },
        {
         "name": "engine_cylinders",
         "rawType": "float64",
         "type": "float"
        },
        {
         "name": "transmission_type",
         "rawType": "object",
         "type": "unknown"
        },
        {
         "name": "driven_wheels",
         "rawType": "object",
         "type": "unknown"
        },
        {
         "name": "number_of_doors",
         "rawType": "float64",
         "type": "float"
        },
        {
         "name": "vehicle_size",
         "rawType": "object",
         "type": "unknown"
        },
        {
         "name": "vehicle_style",
         "rawType": "object",
         "type": "unknown"
        },
        {
         "name": "highway_mpg",
         "rawType": "float64",
         "type": "float"
        },
        {
         "name": "city_mpg",
         "rawType": "float64",
         "type": "float"
        },
        {
         "name": "is_luxury",
         "rawType": "object",
         "type": "unknown"
        }
       ],
       "conversionMethod": "pd.DataFrame",
       "ref": "7fc96404-9747-4ce7-858b-e0410ba18818",
       "rows": [
        [
         "count",
         "7354.0",
         "7354",
         "7301.0",
         "7327.0",
         "7354",
         "7354",
         "7348.0",
         "7354",
         "7354",
         "7354.0",
         "7354.0",
         "7354"
        ],
        [
         "unique",
         null,
         "9",
         null,
         null,
         "5",
         "4",
         null,
         "3",
         "16",
         null,
         null,
         "2"
        ],
        [
         "top",
         null,
         "regular unleaded",
         null,
         null,
         "AUTOMATIC",
         "front wheel drive",
         null,
         "Midsize",
         "4dr SUV",
         null,
         null,
         "False"
        ],
        [
         "freq",
         null,
         "3180",
         null,
         null,
         "5218",
         "2628",
         null,
         "2868",
         "1891",
         null,
         null,
         "4411"
        ],
        [
         "mean",
         "2012.0640467772641",
         null,
         "274.2233940556088",
         "5.756516991947591",
         null,
         null,
         "3.4176646706586826",
         null,
         null,
         "27.072749524068534",
         "20.076285014957847",
         null
        ],
        [
         "std",
         "6.315914050513451",
         null,
         "114.66240420283668",
         "1.924369427892889",
         null,
         null,
         "0.8960682023072413",
         null,
         null,
         "9.63427569620484",
         "10.04254653644041",
         null
        ],
        [
         "min",
         "1990.0",
         null,
         "55.0",
         "0.0",
         null,
         null,
         "2.0",
         null,
         null,
         "12.0",
         "7.0",
         null
        ],
        [
         "25%",
         "2010.0",
         null,
         "190.0",
         "4.0",
         null,
         null,
         "2.0",
         null,
         null,
         "22.0",
         "16.0",
         null
        ],
        [
         "50%",
         "2015.0",
         null,
         "263.0",
         "6.0",
         null,
         null,
         "4.0",
         null,
         null,
         "26.0",
         "18.0",
         null
        ],
        [
         "75%",
         "2016.0",
         null,
         "320.0",
         "6.0",
         null,
         null,
         "4.0",
         null,
         null,
         "30.0",
         "22.0",
         null
        ],
        [
         "max",
         "2017.0",
         null,
         "1001.0",
         "16.0",
         null,
         null,
         "4.0",
         null,
         null,
         "354.0",
         "137.0",
         null
        ]
       ],
       "shape": {
        "columns": 12,
        "rows": 11
       }
      },
      "text/html": [
       "<div>\n",
       "<style scoped>\n",
       "    .dataframe tbody tr th:only-of-type {\n",
       "        vertical-align: middle;\n",
       "    }\n",
       "\n",
       "    .dataframe tbody tr th {\n",
       "        vertical-align: top;\n",
       "    }\n",
       "\n",
       "    .dataframe thead th {\n",
       "        text-align: right;\n",
       "    }\n",
       "</style>\n",
       "<table border=\"1\" class=\"dataframe\">\n",
       "  <thead>\n",
       "    <tr style=\"text-align: right;\">\n",
       "      <th></th>\n",
       "      <th>year</th>\n",
       "      <th>engine_fuel_type</th>\n",
       "      <th>engine_hp</th>\n",
       "      <th>engine_cylinders</th>\n",
       "      <th>transmission_type</th>\n",
       "      <th>driven_wheels</th>\n",
       "      <th>number_of_doors</th>\n",
       "      <th>vehicle_size</th>\n",
       "      <th>vehicle_style</th>\n",
       "      <th>highway_mpg</th>\n",
       "      <th>city_mpg</th>\n",
       "      <th>is_luxury</th>\n",
       "    </tr>\n",
       "  </thead>\n",
       "  <tbody>\n",
       "    <tr>\n",
       "      <th>count</th>\n",
       "      <td>7354.000000</td>\n",
       "      <td>7354</td>\n",
       "      <td>7301.000000</td>\n",
       "      <td>7327.000000</td>\n",
       "      <td>7354</td>\n",
       "      <td>7354</td>\n",
       "      <td>7348.000000</td>\n",
       "      <td>7354</td>\n",
       "      <td>7354</td>\n",
       "      <td>7354.000000</td>\n",
       "      <td>7354.000000</td>\n",
       "      <td>7354</td>\n",
       "    </tr>\n",
       "    <tr>\n",
       "      <th>unique</th>\n",
       "      <td>NaN</td>\n",
       "      <td>9</td>\n",
       "      <td>NaN</td>\n",
       "      <td>NaN</td>\n",
       "      <td>5</td>\n",
       "      <td>4</td>\n",
       "      <td>NaN</td>\n",
       "      <td>3</td>\n",
       "      <td>16</td>\n",
       "      <td>NaN</td>\n",
       "      <td>NaN</td>\n",
       "      <td>2</td>\n",
       "    </tr>\n",
       "    <tr>\n",
       "      <th>top</th>\n",
       "      <td>NaN</td>\n",
       "      <td>regular unleaded</td>\n",
       "      <td>NaN</td>\n",
       "      <td>NaN</td>\n",
       "      <td>AUTOMATIC</td>\n",
       "      <td>front wheel drive</td>\n",
       "      <td>NaN</td>\n",
       "      <td>Midsize</td>\n",
       "      <td>4dr SUV</td>\n",
       "      <td>NaN</td>\n",
       "      <td>NaN</td>\n",
       "      <td>False</td>\n",
       "    </tr>\n",
       "    <tr>\n",
       "      <th>freq</th>\n",
       "      <td>NaN</td>\n",
       "      <td>3180</td>\n",
       "      <td>NaN</td>\n",
       "      <td>NaN</td>\n",
       "      <td>5218</td>\n",
       "      <td>2628</td>\n",
       "      <td>NaN</td>\n",
       "      <td>2868</td>\n",
       "      <td>1891</td>\n",
       "      <td>NaN</td>\n",
       "      <td>NaN</td>\n",
       "      <td>4411</td>\n",
       "    </tr>\n",
       "    <tr>\n",
       "      <th>mean</th>\n",
       "      <td>2012.064047</td>\n",
       "      <td>NaN</td>\n",
       "      <td>274.223394</td>\n",
       "      <td>5.756517</td>\n",
       "      <td>NaN</td>\n",
       "      <td>NaN</td>\n",
       "      <td>3.417665</td>\n",
       "      <td>NaN</td>\n",
       "      <td>NaN</td>\n",
       "      <td>27.072750</td>\n",
       "      <td>20.076285</td>\n",
       "      <td>NaN</td>\n",
       "    </tr>\n",
       "    <tr>\n",
       "      <th>std</th>\n",
       "      <td>6.315914</td>\n",
       "      <td>NaN</td>\n",
       "      <td>114.662404</td>\n",
       "      <td>1.924369</td>\n",
       "      <td>NaN</td>\n",
       "      <td>NaN</td>\n",
       "      <td>0.896068</td>\n",
       "      <td>NaN</td>\n",
       "      <td>NaN</td>\n",
       "      <td>9.634276</td>\n",
       "      <td>10.042547</td>\n",
       "      <td>NaN</td>\n",
       "    </tr>\n",
       "    <tr>\n",
       "      <th>min</th>\n",
       "      <td>1990.000000</td>\n",
       "      <td>NaN</td>\n",
       "      <td>55.000000</td>\n",
       "      <td>0.000000</td>\n",
       "      <td>NaN</td>\n",
       "      <td>NaN</td>\n",
       "      <td>2.000000</td>\n",
       "      <td>NaN</td>\n",
       "      <td>NaN</td>\n",
       "      <td>12.000000</td>\n",
       "      <td>7.000000</td>\n",
       "      <td>NaN</td>\n",
       "    </tr>\n",
       "    <tr>\n",
       "      <th>25%</th>\n",
       "      <td>2010.000000</td>\n",
       "      <td>NaN</td>\n",
       "      <td>190.000000</td>\n",
       "      <td>4.000000</td>\n",
       "      <td>NaN</td>\n",
       "      <td>NaN</td>\n",
       "      <td>2.000000</td>\n",
       "      <td>NaN</td>\n",
       "      <td>NaN</td>\n",
       "      <td>22.000000</td>\n",
       "      <td>16.000000</td>\n",
       "      <td>NaN</td>\n",
       "    </tr>\n",
       "    <tr>\n",
       "      <th>50%</th>\n",
       "      <td>2015.000000</td>\n",
       "      <td>NaN</td>\n",
       "      <td>263.000000</td>\n",
       "      <td>6.000000</td>\n",
       "      <td>NaN</td>\n",
       "      <td>NaN</td>\n",
       "      <td>4.000000</td>\n",
       "      <td>NaN</td>\n",
       "      <td>NaN</td>\n",
       "      <td>26.000000</td>\n",
       "      <td>18.000000</td>\n",
       "      <td>NaN</td>\n",
       "    </tr>\n",
       "    <tr>\n",
       "      <th>75%</th>\n",
       "      <td>2016.000000</td>\n",
       "      <td>NaN</td>\n",
       "      <td>320.000000</td>\n",
       "      <td>6.000000</td>\n",
       "      <td>NaN</td>\n",
       "      <td>NaN</td>\n",
       "      <td>4.000000</td>\n",
       "      <td>NaN</td>\n",
       "      <td>NaN</td>\n",
       "      <td>30.000000</td>\n",
       "      <td>22.000000</td>\n",
       "      <td>NaN</td>\n",
       "    </tr>\n",
       "    <tr>\n",
       "      <th>max</th>\n",
       "      <td>2017.000000</td>\n",
       "      <td>NaN</td>\n",
       "      <td>1001.000000</td>\n",
       "      <td>16.000000</td>\n",
       "      <td>NaN</td>\n",
       "      <td>NaN</td>\n",
       "      <td>4.000000</td>\n",
       "      <td>NaN</td>\n",
       "      <td>NaN</td>\n",
       "      <td>354.000000</td>\n",
       "      <td>137.000000</td>\n",
       "      <td>NaN</td>\n",
       "    </tr>\n",
       "  </tbody>\n",
       "</table>\n",
       "</div>"
      ],
      "text/plain": [
       "               year  engine_fuel_type    engine_hp  engine_cylinders  \\\n",
       "count   7354.000000              7354  7301.000000       7327.000000   \n",
       "unique          NaN                 9          NaN               NaN   \n",
       "top             NaN  regular unleaded          NaN               NaN   \n",
       "freq            NaN              3180          NaN               NaN   \n",
       "mean    2012.064047               NaN   274.223394          5.756517   \n",
       "std        6.315914               NaN   114.662404          1.924369   \n",
       "min     1990.000000               NaN    55.000000          0.000000   \n",
       "25%     2010.000000               NaN   190.000000          4.000000   \n",
       "50%     2015.000000               NaN   263.000000          6.000000   \n",
       "75%     2016.000000               NaN   320.000000          6.000000   \n",
       "max     2017.000000               NaN  1001.000000         16.000000   \n",
       "\n",
       "       transmission_type      driven_wheels  number_of_doors vehicle_size  \\\n",
       "count               7354               7354      7348.000000         7354   \n",
       "unique                 5                  4              NaN            3   \n",
       "top            AUTOMATIC  front wheel drive              NaN      Midsize   \n",
       "freq                5218               2628              NaN         2868   \n",
       "mean                 NaN                NaN         3.417665          NaN   \n",
       "std                  NaN                NaN         0.896068          NaN   \n",
       "min                  NaN                NaN         2.000000          NaN   \n",
       "25%                  NaN                NaN         2.000000          NaN   \n",
       "50%                  NaN                NaN         4.000000          NaN   \n",
       "75%                  NaN                NaN         4.000000          NaN   \n",
       "max                  NaN                NaN         4.000000          NaN   \n",
       "\n",
       "       vehicle_style  highway_mpg     city_mpg is_luxury  \n",
       "count           7354  7354.000000  7354.000000      7354  \n",
       "unique            16          NaN          NaN         2  \n",
       "top          4dr SUV          NaN          NaN     False  \n",
       "freq            1891          NaN          NaN      4411  \n",
       "mean             NaN    27.072750    20.076285       NaN  \n",
       "std              NaN     9.634276    10.042547       NaN  \n",
       "min              NaN    12.000000     7.000000       NaN  \n",
       "25%              NaN    22.000000    16.000000       NaN  \n",
       "50%              NaN    26.000000    18.000000       NaN  \n",
       "75%              NaN    30.000000    22.000000       NaN  \n",
       "max              NaN   354.000000   137.000000       NaN  "
      ]
     },
     "execution_count": 13,
     "metadata": {},
     "output_type": "execute_result"
    }
   ],
   "source": [
    "msrp_train_df.describe(include='all') "
   ]
  },
  {
   "cell_type": "markdown",
   "metadata": {},
   "source": [
    "**Task:** Prepare the MSRP training data for machine learning algorithms, treating `is_luxury` as the target variable."
   ]
  },
  {
   "cell_type": "code",
   "execution_count": 14,
   "metadata": {},
   "outputs": [],
   "source": [
    "from sklearn.pipeline import Pipeline\n",
    "from sklearn.preprocessing import StandardScaler\n",
    "from sklearn.preprocessing import OneHotEncoder\n",
    "from sklearn.compose import ColumnTransformer\n",
    "\n",
    "def preprocess_msrp(df_in):\n",
    "\n",
    "    df = df_in.copy()\n",
    "\n",
    "    X = df.drop('is_luxury', axis=1)\n",
    "    y = df['is_luxury'].copy()\n",
    "\n",
    "    df.fillna(\n",
    "        {\n",
    "            'year': df['year'].median(), \n",
    "            'engine_fuel_type': 'regular unleaded', \n",
    "            'engine_hp': df['engine_hp'].median(), \n",
    "            'engine_cylinders': df['engine_cylinders'].median(), \n",
    "            'transmission_type': 'automatic',\n",
    "            'driven_wheels': 'rear wheel drive', \n",
    "            'number_of_doors': 'four', \n",
    "            'vehicle_size': 'mid-size', \n",
    "            'vehicle_style': 'sedan', \n",
    "            'highway_mpg': df['highway_mpg'].median(), \n",
    "            'city_mpg': df['city_mpg'].median()\n",
    "        }, inplace=True)\n",
    "\n",
    "    return(X,y)\n",
    "\n",
    "X, y = preprocess_msrp(msrp_train_set)\n",
    "\n",
    "num_attribs = list(X.select_dtypes('number'))\n",
    "cat_attribs = list(X.select_dtypes('object'))\n",
    "\n",
    "pipeline = ColumnTransformer([\n",
    "    ('num', StandardScaler(), num_attribs),\n",
    "    ('cat', OneHotEncoder(), cat_attribs)\n",
    "])\n",
    "\n",
    "X_prepared = pipeline.fit_transform(X)\n",
    "    "
   ]
  },
  {
   "cell_type": "markdown",
   "metadata": {},
   "source": [
    "**Task:** Train binary classification models on the MSRP training data. Try different models, including Logistic Regression, Decision Tree, Random Forest, Stochastic Gradient Descent classifier and SVM. For each classifier, look at the accuracy, confusion matrix, precision, recall and F$_1$ score. When applicable, plot precision-recall curves for different thresholds and calculate the area under the curve."
   ]
  },
  {
   "cell_type": "code",
   "execution_count": 15,
   "metadata": {},
   "outputs": [
    {
     "name": "stdout",
     "output_type": "stream",
     "text": [
      "Logistic Regression:\n",
      "Accuracy: 0.8101713353277128\n",
      "Confusion Matrix:\n",
      " [[3777  634]\n",
      " [ 762 2181]]\n",
      "Precision: 0.7747779751332149\n",
      "Recall: 0.7410805300713558\n",
      "F1 Score: 0.7575547064953109\n",
      "\n"
     ]
    },
    {
     "data": {
      "image/png": "[encoded data removed]",
      "text/plain": [
       "<Figure size 640x480 with 1 Axes>"
      ]
     },
     "metadata": {},
     "output_type": "display_data"
    },
    {
     "name": "stdout",
     "output_type": "stream",
     "text": [
      "Decision Tree:\n",
      "Accuracy: 0.9959205874354093\n",
      "Confusion Matrix:\n",
      " [[4398   13]\n",
      " [  17 2926]]\n",
      "Precision: 0.9955767267778156\n",
      "Recall: 0.9942235813795447\n",
      "F1 Score: 0.9948996939816389\n",
      "\n"
     ]
    },
    {
     "data": {
      "image/png": "[encoded data removed]",
      "text/plain": [
       "<Figure size 640x480 with 1 Axes>"
      ]
     },
     "metadata": {},
     "output_type": "display_data"
    },
    {
     "name": "stdout",
     "output_type": "stream",
     "text": [
      "Random Forest:\n",
      "Accuracy: 0.9959205874354093\n",
      "Confusion Matrix:\n",
      " [[4392   19]\n",
      " [  11 2932]]\n",
      "Precision: 0.9935615045747205\n",
      "Recall: 0.9962623173632348\n",
      "F1 Score: 0.9949100780454699\n",
      "\n"
     ]
    },
    {
     "data": {
      "image/png": "[encoded data removed]",
      "text/plain": [
       "<Figure size 640x480 with 1 Axes>"
      ]
     },
     "metadata": {},
     "output_type": "display_data"
    },
    {
     "name": "stdout",
     "output_type": "stream",
     "text": [
      "SGD Classifier:\n",
      "Accuracy: 0.7828392711449551\n",
      "Confusion Matrix:\n",
      " [[3634  777]\n",
      " [ 820 2123]]\n",
      "Precision: 0.7320689655172414\n",
      "Recall: 0.7213727488956847\n",
      "F1 Score: 0.7266814992298477\n",
      "\n"
     ]
    },
    {
     "data": {
      "image/png": "[encoded data removed]",
      "text/plain": [
       "<Figure size 640x480 with 1 Axes>"
      ]
     },
     "metadata": {},
     "output_type": "display_data"
    },
    {
     "name": "stdout",
     "output_type": "stream",
     "text": [
      "SVM:\n",
      "Accuracy: 0.8966548816970357\n",
      "Confusion Matrix:\n",
      " [[4099  312]\n",
      " [ 448 2495]]\n",
      "Precision: 0.8888493053081582\n",
      "Recall: 0.8477743798844716\n",
      "F1 Score: 0.8678260869565217\n",
      "\n"
     ]
    },
    {
     "data": {
      "image/png": "[encoded data removed]",
      "text/plain": [
       "<Figure size 640x480 with 1 Axes>"
      ]
     },
     "metadata": {},
     "output_type": "display_data"
    }
   ],
   "source": [
    "import matplotlib.pyplot as plt\n",
    "from sklearn.linear_model import LogisticRegression, SGDClassifier\n",
    "from sklearn.tree import DecisionTreeClassifier\n",
    "from sklearn.ensemble import RandomForestClassifier\n",
    "from sklearn.svm import SVC\n",
    "from sklearn.metrics import accuracy_score, confusion_matrix\n",
    "from sklearn.metrics import precision_score, recall_score, f1_score, auc, precision_recall_curve\n",
    "# Impute NaN values using SimpleImputer\n",
    "from sklearn.impute import SimpleImputer\n",
    "\n",
    "classifiers = {\n",
    "    \"Logistic Regression\": LogisticRegression(max_iter=1000),\n",
    "    \"Decision Tree\": DecisionTreeClassifier(),\n",
    "    \"Random Forest\": RandomForestClassifier(),\n",
    "    \"SGD Classifier\": SGDClassifier(),\n",
    "    \"SVM\": SVC(probability=True)\n",
    "}\n",
    "\n",
    "# Create an imputer to replace NaN values with the median\n",
    "imputer = SimpleImputer(strategy='median')\n",
    "\n",
    "# Fit and transform the imputer on the data\n",
    "X_prepared_imputed = imputer.fit_transform(X_prepared.toarray())\n",
    "\n",
    "# Convert boolean values in 'y' to integers (0 and 1)\n",
    "y = y.astype(int)  # This will convert True to 1 and False to 0\n",
    "\n",
    "for name, clf in classifiers.items():\n",
    "    print(f\"{name}:\")\n",
    "    clf.fit(X_prepared_imputed, y)  # Use the imputed data and converted 'y' for training\n",
    "    y_pred = clf.predict(X_prepared_imputed)  # Use the imputed data for prediction\n",
    "    print(\"Accuracy:\", accuracy_score(y, y_pred))\n",
    "    print(\"Confusion Matrix:\\n\", confusion_matrix(y, y_pred))\n",
    "    print(\"Precision:\", precision_score(y, y_pred))\n",
    "    print(\"Recall:\", recall_score(y, y_pred))\n",
    "    print(\"F1 Score:\", f1_score(y, y_pred))\n",
    "    print()\n",
    "\n",
    "    if hasattr(clf, \"decision_function\") or hasattr(clf, \"predict_proba\"):\n",
    "        if hasattr(clf, \"decision_function\"):\n",
    "            y_scores = clf.decision_function(X_prepared_imputed)\n",
    "        if hasattr(clf, \"predict_proba\"):\n",
    "            y_scores = clf.predict_proba(X_prepared_imputed)[:, 1]\n",
    "\n",
    "        precisions, recalls, thresholds = precision_recall_curve(y, y_scores)\n",
    "        pr_auc = auc(recalls, precisions)\n",
    "\n",
    "        plt.plot(recalls, precisions, label=f'AUC={pr_auc:.4f}')\n",
    "        plt.xlabel('Recall')\n",
    "        plt.ylabel('Precision')\n",
    "        plt.title(f'{name} - Precision-Recall Curve')\n",
    "        plt.legend()\n",
    "        plt.grid()\n",
    "        plt.show()"
   ]
  },
  {
   "cell_type": "markdown",
   "metadata": {},
   "source": [
    "**Question:** What was the best model you found?"
   ]
  },
  {
   "cell_type": "markdown",
   "metadata": {},
   "source": [
    "Random Forest (and Decision tree?)"
   ]
  },
  {
   "cell_type": "markdown",
   "metadata": {},
   "source": [
    "**Task:** Validate your best model on the MSRP test data. How does it perform?"
   ]
  },
  {
   "cell_type": "code",
   "execution_count": 17,
   "metadata": {},
   "outputs": [
    {
     "name": "stdout",
     "output_type": "stream",
     "text": [
      "Random Forest - Test Set Evaluation:\n",
      "Accuracy: 0.9853300733496333\n",
      "Confusion Matrix:\n",
      " [[467   6]\n",
      " [  6 339]]\n",
      "Precision: 0.9826086956521739\n",
      "Recall: 0.9826086956521739\n",
      "F1 Score: 0.9826086956521739\n"
     ]
    },
    {
     "data": {
      "image/png": "[encoded data removed]",
      "text/plain": [
       "<Figure size 640x480 with 1 Axes>"
      ]
     },
     "metadata": {},
     "output_type": "display_data"
    }
   ],
   "source": [
    "X, y = preprocess_msrp(msrp_train_set)\n",
    "\n",
    "num_attribs = list(X.select_dtypes('number'))\n",
    "cat_attribs = list(X.select_dtypes('object'))\n",
    "\n",
    "pipeline = ColumnTransformer([\n",
    "    ('num', Pipeline([('imputer', SimpleImputer(strategy='median')), ('scaler', StandardScaler())]), num_attribs),\n",
    "    ('cat', Pipeline([('imputer', SimpleImputer(strategy='most_frequent')), ('encoder', OneHotEncoder())]), cat_attribs)\n",
    "])\n",
    "\n",
    "X_prepared = pipeline.fit_transform(X)\n",
    "\n",
    "#Convert y to numerical values (0 and 1) before fitting the model\n",
    "y = y.astype(int)  # Convert True to 1 and False to 0\n",
    "\n",
    "rand_forest_clf = RandomForestClassifier()\n",
    "rand_forest_clf.fit(X_prepared, y)\n",
    "\n",
    "X_test, y_test = preprocess_msrp(msrp_test_set)\n",
    "\n",
    "y_pred = rand_forest_clf.predict(pipeline.transform(X_test))\n",
    "\n",
    "print(\"Random Forest - Test Set Evaluation:\")\n",
    "\n",
    "# Convert y_test to numerical values (0 and 1) before calculating accuracy\n",
    "y_test_int = y_test.astype(int) # Convert True to 1 and False to 0\n",
    "print(\"Accuracy:\", accuracy_score(y_test_int, y_pred))  # Use y_test_int\n",
    "\n",
    "print(\"Confusion Matrix:\\n\", confusion_matrix(y_test_int, y_pred)) # Use y_test_int\n",
    "print(\"Precision:\", precision_score(y_test_int, y_pred)) # Use y_test_int\n",
    "print(\"Recall:\", recall_score(y_test_int, y_pred)) # Use y_test_int\n",
    "print(\"F1 Score:\", f1_score(y_test_int, y_pred)) # Use y_test_int\n",
    "\n",
    "# Precision-Recall curve for the test set\n",
    "y_scores = rand_forest_clf.predict_proba(pipeline.transform(X_test))[:, 1] # Changed this line\n",
    "precisions, recalls, thresholds = precision_recall_curve(y_test_int, y_scores) # Use y_test_int\n",
    "pr_auc = auc(recalls, precisions)\n",
    "\n",
    "# Plot the Precision-Recall curve\n",
    "plt.plot(recalls, precisions, label=f'AUC={pr_auc:.4f}')\n",
    "plt.xlabel('Recall')\n",
    "plt.ylabel('Precision')\n",
    "plt.title('Random Forest - Precision-Recall Curve (Test Set)')\n",
    "plt.legend()\n",
    "plt.grid()\n",
    "plt.show()"
   ]
  }
 ],
 "metadata": {
  "kernelspec": {
   "display_name": "venv",
   "language": "python",
   "name": "python3"
  },
  "language_info": {
   "codemirror_mode": {
    "name": "ipython",
    "version": 3
   },
   "file_extension": ".py",
   "mimetype": "text/x-python",
   "name": "python",
   "nbconvert_exporter": "python",
   "pygments_lexer": "ipython3",
   "version": "3.12.5"
  }
 },
 "nbformat": 4,
 "nbformat_minor": 4
}
